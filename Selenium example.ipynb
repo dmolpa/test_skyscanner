{
 "cells": [
  {
   "cell_type": "code",
   "execution_count": 1,
   "metadata": {},
   "outputs": [
    {
     "data": {
      "text/html": [
       "<style>.container { width:98% !important; }</style>"
      ],
      "text/plain": [
       "<IPython.core.display.HTML object>"
      ]
     },
     "metadata": {},
     "output_type": "display_data"
    }
   ],
   "source": [
    "from IPython.core.display import display, HTML\n",
    "display(HTML(\"<style>.container { width:98% !important; }</style>\"))"
   ]
  },
  {
   "cell_type": "markdown",
   "metadata": {},
   "source": [
    "# Download and install Selenium"
   ]
  },
  {
   "cell_type": "code",
   "execution_count": null,
   "metadata": {},
   "outputs": [],
   "source": [
    "!wget https://github.com/mozilla/geckodriver/releases/download/v0.29.1/geckodriver-v0.29.1-linux64.tar.gz"
   ]
  },
  {
   "cell_type": "code",
   "execution_count": null,
   "metadata": {},
   "outputs": [],
   "source": [
    "!tar -xvzf geckodriver*"
   ]
  },
  {
   "cell_type": "markdown",
   "metadata": {},
   "source": [
    "#  Use Terminal to move geckodriver to your PATH folder\n",
    "```\n",
    "sudo mv geckodriver /usr/local/bin/\n",
    "```"
   ]
  },
  {
   "cell_type": "code",
   "execution_count": null,
   "metadata": {},
   "outputs": [],
   "source": [
    "!rm geckodriver-v0.29.1-linux64.tar.gz"
   ]
  },
  {
   "cell_type": "code",
   "execution_count": null,
   "metadata": {},
   "outputs": [],
   "source": [
    "!pipenv install"
   ]
  },
  {
   "cell_type": "markdown",
   "metadata": {},
   "source": [
    "# Create or edit *.py files"
   ]
  },
  {
   "cell_type": "code",
   "execution_count": 6,
   "metadata": {},
   "outputs": [
    {
     "name": "stdout",
     "output_type": "stream",
     "text": [
      "Overwriting flights_xpath_selectors.py\n"
     ]
    }
   ],
   "source": [
    "%%file flights_xpath_selectors.py\n",
    "from datetime import datetime, timedelta\n",
    "from dateutil.relativedelta import *\n",
    "\n",
    "\n",
    "def get_day_button_selector(yyyy, m, d):\n",
    "    year = int(yyyy)\n",
    "    day = int(d)\n",
    "    target_day = datetime(year, int(m), day)\n",
    "    month = target_day.strftime('%B')\n",
    "    weekday = target_day.strftime('%A')\n",
    "    return f'//*[@aria-label=\"{weekday}, {month} {day}, {year}\"]'\n",
    "\n",
    "def get_today_button_selector():\n",
    "    target_date = datetime.today()\n",
    "    year = target_date.year\n",
    "    month = target_date.strftime('%B')\n",
    "    day = target_date.day\n",
    "    weekday = target_date.strftime('%A')\n",
    "    return f'//*[@aria-label=\"{weekday}, {month} {day}, {year}\"]'\n",
    "\n",
    "def get_4_weeks_button_selector():\n",
    "    target_date = datetime.today() + timedelta(weeks=+4)\n",
    "    year = target_date.year\n",
    "    month = target_date.strftime('%B')\n",
    "    day = target_date.day\n",
    "    weekday = target_date.strftime('%A')\n",
    "    return f'//*[@aria-label=\"{weekday}, {month} {day}, {year}\"]'\n",
    "\n",
    "def get_next_month_button_selector():\n",
    "    target_date = datetime.today() + relativedelta(months=+1)\n",
    "    year = target_date.year\n",
    "    month = target_date.strftime('%B')\n",
    "    day = target_date.day\n",
    "    weekday = target_date.strftime('%A')\n",
    "    return f'//*[@aria-label=\"{weekday}, {month} {day}, {year}\"]'\n",
    "\n",
    "flights_tab_selector = '//*[@id=\"airli\"]'\n",
    "\n",
    "roundtrip_radio_btn_selector = '//*[@id=\"fsc-trip-type-selector-return\"]'\n",
    "one_way_radio_btn_selector = '//*[@id=\"fsc-trip-type-selector-one-way\"]'\n",
    "multi_city_radio_btn_selector = '//*[@id=\"fsc-trip-type-selector-multi-destination\"]'\n",
    "\n",
    "from_input_selector = '//*[@id=\"fsc-origin-search\"]'\n",
    "to_input_selector = '//*[@id=\"fsc-destination-search\"]'\n",
    "from_suggestion_selector = '//*[@id=\"react-autowhatever-fsc-origin-search--item-0\"]'\n",
    "to_suggestion_selector = '//*[@id=\"react-autowhatever-fsc-destination-search--item-0\"]'\n",
    "add_nearby_airbort_check_boxes_selector = '//*[@aria-label=\"Add nearby airports\"]'\n",
    "\n",
    "depart_date_btn_selector = '//*[@id=\"depart-fsc-datepicker-button\"]'\n",
    "return_date_btn_selector = '//*[@id=\"return-fsc-datepicker-button\"]'\n",
    "depart_prev_month_btn_selector = '//*[@id=\"depart-calendar__bpk_calendar_nav_month_nudger_previous\"]'\n",
    "depart_next_month_btn_selector = '//*[@id=\"depart-calendar__bpk_calendar_nav_month_nudger_next\"]'\n",
    "return_prev_month_btn_selector = '//*[@id=\"return-calendar__bpk_calendar_nav_month_nudger_previous\"]'\n",
    "return_next_month_btn_selector = '//*[@id=\"return-calendar__bpk_calendar_nav_month_nudger_next\"]'\n",
    "\n",
    "travelers_count_btn_selector = '//*[@name=\"class-travellers-trigger\"]'\n",
    "adults_counter_selector = '//*[@id=\"search-controls-adults-nudger\"]'\n",
    "children_counter_selector = '//*[@id=\"search-controls-children-nudger\"]'\n",
    "decrease_adults_btn_selector = '//*[@title=\"Decrease number of adults\"]'\n",
    "increase_adults_btn_selector = '//*[@title=\"Increase number of adults\"]'\n",
    "decrease_children_btn_selector = '//*[@title=\"Decrease number of children\"]'\n",
    "increase_children_btn_selector = '//*[@title=\"Increase number of children\"]'\n",
    "childs_age_dropdown_selector = '//*[@name=\"children-age-dropdown-0\"]'\n",
    "\n",
    "search_flights_btn_selector = '//*[@aria-label=\"Search flights\"]'\n",
    "search_results_label_selector = '//*[contains(@class, \"SummaryInfo_itineraryCountContainer__Q19Ng\")]'\n",
    "\n",
    "airports_to_be_tested = ('KBP', 'IEV', 'LWO', 'VIN', 'DNK', 'DOK', 'ZTR', 'OZH', 'IFO', 'KWG', 'VSG', 'MPW', 'NLV', 'ODS', 'PLV', 'RWN', 'SIP', 'TNL', 'UDJ', 'HRK', 'KHE', 'CKC', 'CWC')"
   ]
  },
  {
   "cell_type": "raw",
   "metadata": {},
   "source": [
    "# date button selector generators\n",
    "\n",
    "from flights_xpath_selectors import *\n",
    "\n",
    "print(f\"Selector for today: {get_today_button_selector()}\")\n",
    "print(f\"Selector 4 weeks from now: {get_4_weeks_button_selector()}\")\n",
    "print(f\"Selector for 2021, 10, 1: {get_day_button_selector(2021, 10, 1)}\")\n",
    "print(f\"Next month: {get_next_month_button_selector()}\")\n",
    "airports_to_be_tested[:10]"
   ]
  },
  {
   "cell_type": "code",
   "execution_count": 5,
   "metadata": {},
   "outputs": [
    {
     "name": "stdout",
     "output_type": "stream",
     "text": [
      "Overwriting main.py\n"
     ]
    }
   ],
   "source": [
    "%%file main.py\n",
    "import unittest, time\n",
    "from selenium import webdriver\n",
    "from selenium.webdriver.common.by import By\n",
    "from selenium.webdriver.firefox.options import Options\n",
    "from selenium.webdriver.support.ui import WebDriverWait, Select\n",
    "from selenium.webdriver.support import expected_conditions as EC\n",
    "from selenium.common.exceptions import NoSuchElementException\n",
    "\n",
    "from flights_xpath_selectors import *\n",
    "\n",
    "class flightsPageTest(unittest.TestCase):\n",
    "    \n",
    "    @classmethod\n",
    "    def wait_for(self, element_selector, timeout=2):\n",
    "        element_present = EC.presence_of_element_located((By.XPATH, element_selector))\n",
    "        WebDriverWait(self.browser, timeout).until(element_present)\n",
    "    \n",
    "    @classmethod\n",
    "    def setUpClass(self):\n",
    "        options = Options()\n",
    "        options.add_argument(\"user-agent=Mozilla/5.0 (X11; Ubuntu; Linux x86_64; rv:91.0) Gecko/20100101 Firefox/91.0\")\n",
    "        \n",
    "        self.browser = webdriver.Firefox(options=options)\n",
    "        self.browser.get('about:blank')\n",
    "        self.browser.delete_all_cookies()\n",
    "        self.browser.set_window_size(1920, 1200)\n",
    "        self.browser.get(\"https://www.skyscanner.com.ua/flights?locale=en-US\")\n",
    "        \n",
    "        self.wait_for(multi_city_radio_btn_selector)\n",
    "        \n",
    "    def test_preconditions(self):\n",
    "        add_nearby1_element = self.browser.find_element_by_xpath(f\"({add_nearby_airbort_check_boxes_selector})[1]\")\n",
    "        add_nearby2_element = self.browser.find_element_by_xpath(f\"({add_nearby_airbort_check_boxes_selector})[2]\")\n",
    "        multi_city_element = self.browser.find_element_by_xpath(multi_city_radio_btn_selector)\n",
    "        elements_values = [add_nearby1_element.get_attribute(\"checked\"), add_nearby1_element.get_attribute(\"checked\"), multi_city_element.get_attribute(\"checked\")]\n",
    "        self.assertEqual(all(elements_values), False)\n",
    "    \n",
    "    def test_choose_destination(self):\n",
    "        destination_input_element = self.browser.find_element_by_xpath(to_input_selector)\n",
    "\n",
    "        destination_name = airports_to_be_tested[2]\n",
    "        destination_input_element.send_keys(destination_name)\n",
    "        \n",
    "        self.wait_for(to_suggestion_selector)\n",
    "        destination_suggestion_element = self.browser.find_element_by_xpath(to_suggestion_selector)\n",
    "        destination_suggestion_element.click()\n",
    "        \n",
    "        destination_value = destination_input_element.get_attribute(\"value\")\n",
    "        self.assertEqual(f\" ({destination_name})\" in destination_value, True)\n",
    "        \n",
    "    def test_choose_max_adults(self):\n",
    "        travelers_btn_element = self.browser.find_element_by_xpath(travelers_count_btn_selector)\n",
    "        travelers_btn_element.click()\n",
    "        \n",
    "        self.wait_for(adults_counter_selector)\n",
    "        adults_label_element = self.browser.find_element_by_xpath(adults_counter_selector)\n",
    "        add_adult_btn_element = self.browser.find_element_by_xpath(increase_adults_btn_selector)\n",
    "        [add_adult_btn_element.click() for each in range(10)] # clicking add adult traveler button\n",
    "        \n",
    "        self.assertEqual(adults_label_element.get_attribute(\"value\"), '8')\n",
    "        \n",
    "    def test_choose_max_children(self):\n",
    "        travelers_btn_element = self.browser.find_element_by_xpath(travelers_count_btn_selector)\n",
    "        travelers_btn_element.click()\n",
    "        \n",
    "        self.wait_for(children_counter_selector)\n",
    "        children_label_element = self.browser.find_element_by_xpath(children_counter_selector)\n",
    "        add_children_btn_element = self.browser.find_element_by_xpath(increase_children_btn_selector)\n",
    "        \n",
    "        # dropdowns are generated as we add children\n",
    "        # adding children and generating dropdowns' selectors\n",
    "        for child_i in range(15):\n",
    "            try:\n",
    "                add_children_btn_element.click()\n",
    "                next_age_dropdown_selector = childs_age_dropdown_selector.replace('dropdown-0', f'dropdown-{child_i}')\n",
    "                \n",
    "                next_age_dropdown = Select(self.browser.find_element_by_xpath(next_age_dropdown_selector))\n",
    "                next_age_dropdown.select_by_value('7')\n",
    "            except NoSuchElementException:\n",
    "                pass # we are trying to select more chidren than possible, so the exception will be raised 100%. Final value will be verified later\n",
    "            \n",
    "        self.assertEqual(children_label_element.get_attribute(\"value\"), '8')\n",
    "        \n",
    "    def test_select_0_adults(self):\n",
    "        travelers_btn_element = self.browser.find_element_by_xpath(travelers_count_btn_selector)\n",
    "        travelers_btn_element.click()\n",
    "        \n",
    "        self.wait_for(adults_counter_selector)\n",
    "        adults_label_element = self.browser.find_element_by_xpath(adults_counter_selector)\n",
    "        decrease_adult_btn_element = self.browser.find_element_by_xpath(decrease_adults_btn_selector)\n",
    "        [decrease_adult_btn_element.click() for each in range(10)] # clicking decrease adult traveler button\n",
    "        \n",
    "        self.assertEqual(adults_label_element.get_attribute(\"value\"), '1')\n",
    "        \n",
    "    def test_y_choose_return_date(self):\n",
    "        # click the return date widget\n",
    "        return_date_element = self.browser.find_element_by_xpath(return_date_btn_selector)\n",
    "        return_date_element.click()\n",
    "        \n",
    "        # wait for calendar to pop up\n",
    "        self.wait_for(return_next_month_btn_selector)\n",
    "        \n",
    "        # check which month appeared on the calendar and switch if needed\n",
    "        month_from_now_btn_selector = get_next_month_button_selector()\n",
    "        try:\n",
    "            self.wait_for(month_from_now_btn_selector)\n",
    "        except NoSuchElementException:\n",
    "            # click next month\n",
    "            next_month_btn_element = self.browser.find_element_by_xpath(return_next_month_btn_selector)\n",
    "            next_month_btn_element.click()\n",
    "            self.wait_for(month_from_now_btn_selector)\n",
    "        \n",
    "        # click the day on the calendar widget\n",
    "        month_from_now_day_btn_element = self.browser.find_element_by_xpath(month_from_now_btn_selector)\n",
    "        month_from_now_day_btn_element.click()    \n",
    "    \n",
    "    def test_z_search_flights_button(self):\n",
    "        search_flights_btn_element = self.browser.find_element_by_xpath(search_flights_btn_selector)\n",
    "        print(\"There's a captcha that prevents Selenium from accessing the results page. I'm not sure how it works exactly and how to bypass it.\")\n",
    "        search_flights_btn_element.click()\n",
    "        #self.wait_for(search_results_label_selector)\n",
    "        #search_results_label_element = self.browser.find_element_by_xpath(search_results_label_selector)\n",
    "        #self.assertEqual(' results' in search_results_label_element.get_attribute(\"value\"), True)\n",
    "    \n",
    "    @classmethod\n",
    "    def tearDownClass(self):\n",
    "        time.sleep(1) # to be able to see the completion of the last test\n",
    "        self.browser.close()\n",
    "        \n",
    "if __name__ == \"__main__\":\n",
    "    unittest.main()"
   ]
  },
  {
   "cell_type": "code",
   "execution_count": 4,
   "metadata": {},
   "outputs": [
    {
     "name": "stdout",
     "output_type": "stream",
     "text": [
      "......There's a captcha that prevents Selenium from accessing the results page.\n",
      ".\n",
      "----------------------------------------------------------------------\n",
      "Ran 7 tests in 33.963s\n",
      "\n",
      "OK\n"
     ]
    }
   ],
   "source": [
    "!python3 main.py"
   ]
  },
  {
   "cell_type": "code",
   "execution_count": null,
   "metadata": {},
   "outputs": [],
   "source": []
  }
 ],
 "metadata": {
  "kernelspec": {
   "display_name": "Python 3",
   "language": "python",
   "name": "python3"
  },
  "language_info": {
   "codemirror_mode": {
    "name": "ipython",
    "version": 3
   },
   "file_extension": ".py",
   "mimetype": "text/x-python",
   "name": "python",
   "nbconvert_exporter": "python",
   "pygments_lexer": "ipython3",
   "version": "3.8.10"
  }
 },
 "nbformat": 4,
 "nbformat_minor": 2
}
